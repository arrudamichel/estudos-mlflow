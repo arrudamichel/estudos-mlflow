{
 "cells": [
  {
   "cell_type": "markdown",
   "id": "52033f1f-d668-4f9c-833b-07d62de16832",
   "metadata": {},
   "source": [
    "# Criar ENV com PIPENV"
   ]
  },
  {
   "cell_type": "markdown",
   "id": "4b794b74-808a-4752-9de5-5bdd6ece5c26",
   "metadata": {},
   "source": [
    "## 1 - Criar Pipfile"
   ]
  },
  {
   "cell_type": "markdown",
   "id": "3e442d0a-3bda-43d5-a64a-b5584b9e8b69",
   "metadata": {},
   "source": [
    "Criar arquivo Pipfile setando versão do Python em \"requires\" e adicionando dependências no \"packages\"\n",
    "\n",
    "Obs: dependência [ipykernel = \"==6.7.0\"] deve estar no arquivo, pois é quem provê kernel Python para o notebook."
   ]
  },
  {
   "cell_type": "code",
   "execution_count": 3,
   "id": "2d1fe5a0-bc81-437c-b4ad-c530cc8eff18",
   "metadata": {},
   "outputs": [
    {
     "name": "stdout",
     "output_type": "stream",
     "text": [
      "Overwriting Pipfile\n"
     ]
    }
   ],
   "source": [
    "%%writefile Pipfile\n",
    "[[source]]\n",
    "name = \"pypi\"\n",
    "url = \"https://pypi.org/simple\"\n",
    "verify_ssl = true\n",
    "\n",
    "[packages]\n",
    "aiohttp = \"==3.8.1\"\n",
    "bentoml = \"==0.13.1\"\n",
    "scikit-learn = \">=0.23.2\"\n",
    "pandas = \">=1.1.1\"\n",
    "ipykernel = \"==6.7.0\"\n",
    "\n",
    "[requires]\n",
    "python_version = \"3.8\"\n",
    "\n",
    "[pipenv]\n",
    "allow_prereleases = true"
   ]
  },
  {
   "cell_type": "markdown",
   "id": "67756032-d45b-4d09-96c7-5df1013b83b9",
   "metadata": {},
   "source": [
    "## 3 - Instalar ambiente"
   ]
  },
  {
   "cell_type": "code",
   "execution_count": 4,
   "id": "dd0a9f54-863b-4de2-ba95-15648aa69051",
   "metadata": {},
   "outputs": [
    {
     "name": "stdout",
     "output_type": "stream",
     "text": [
      "\u001b[33m\u001b[1mPipfile.lock (ac7324) out of date, updating to (af563e)...\u001b[39m\u001b[22m\n",
      "\u001b[39m\u001b[22mLocking\u001b[39m\u001b[22m \u001b[33m\u001b[22m[dev-packages]\u001b[39m\u001b[22m \u001b[39m\u001b[22mdependencies...\u001b[39m\u001b[22m\n",
      "\u001b[39m\u001b[22mLocking\u001b[39m\u001b[22m \u001b[33m\u001b[22m[packages]\u001b[39m\u001b[22m \u001b[39m\u001b[22mdependencies...\u001b[39m\u001b[22m\n",
      "\u001b[K\u001b[KBuilding requirements...\n",
      "\u001b[KResolving dependencies...\n",
      "\u001b[K\u001b[?25hking...\u001b[\u001b[32m\u001b[22m✔ Success!\u001b[39m\u001b[22m\u001b[0m \n",
      "\u001b[39m\u001b[1mUpdated Pipfile.lock (af563e)!\u001b[39m\u001b[22m\n",
      "\u001b[39m\u001b[1mInstalling dependencies from Pipfile.lock (af563e)...\u001b[39m\u001b[22m\n",
      "  🐍   \u001b[32m\u001b[1m▉\u001b[39m\u001b[22m\u001b[32m\u001b[1m▉\u001b[39m\u001b[22m\u001b[32m\u001b[1m▉\u001b[39m\u001b[22m\u001b[32m\u001b[1m▉\u001b[39m\u001b[22m\u001b[32m\u001b[1m▉\u001b[39m\u001b[22m\u001b[32m\u001b[1m▉\u001b[39m\u001b[22m\u001b[32m\u001b[1m▉\u001b[39m\u001b[22m\u001b[32m\u001b[1m▉\u001b[39m\u001b[22m\u001b[32m\u001b[1m▉\u001b[39m\u001b[22m\u001b[32m\u001b[1m▉\u001b[39m\u001b[22m\u001b[32m\u001b[1m▉\u001b[39m\u001b[22m\u001b[32m\u001b[1m▉\u001b[39m\u001b[22m\u001b[32m\u001b[1m▉\u001b[39m\u001b[22m\u001b[32m\u001b[1m▉\u001b[39m\u001b[22m\u001b[32m\u001b[1m▉\u001b[39m\u001b[22m\u001b[32m\u001b[1m▉\u001b[39m\u001b[22m\u001b[32m\u001b[1m▉\u001b[39m\u001b[22m\u001b[32m\u001b[1m▉\u001b[39m\u001b[22m\u001b[32m\u001b[1m▉\u001b[39m\u001b[22m\u001b[32m\u001b[1m▉\u001b[39m\u001b[22m\u001b[32m\u001b[1m▉\u001b[39m\u001b[22m\u001b[32m\u001b[1m▉\u001b[39m\u001b[22m\u001b[32m\u001b[1m▉\u001b[39m\u001b[22m\u001b[32m\u001b[1m▉\u001b[39m\u001b[22m\u001b[32m\u001b[1m▉\u001b[39m\u001b[22m\u001b[32m\u001b[1m▉\u001b[39m\u001b[22m\u001b[32m\u001b[1m▉\u001b[39m\u001b[22m\u001b[32m\u001b[1m▉\u001b[39m\u001b[22m\u001b[32m\u001b[1m▉\u001b[39m\u001b[22m\u001b[32m\u001b[1m▉\u001b[39m\u001b[22m\u001b[32m\u001b[1m▉\u001b[39m\u001b[22m\u001b[32m\u001b[1m▉\u001b[39m\u001b[22m 27/27 — \u001b[30m\u001b[22m00:00:33\u001b[39m\u001b[22m2mmmmm2mmmmm2mmmmmm2mmmm2mmmmmm\n",
      "To activate this project's virtualenv, run \u001b[33m\u001b[22mpipenv shell\u001b[39m\u001b[22m.\n",
      "Alternatively, run a command inside the virtualenv with \u001b[33m\u001b[22mpipenv run\u001b[39m\u001b[22m.\n",
      "\u001b[0m"
     ]
    }
   ],
   "source": [
    "!pipenv install"
   ]
  },
  {
   "cell_type": "markdown",
   "id": "f8535bed-0ec5-42bf-a259-4b938303ceb8",
   "metadata": {},
   "source": [
    "## 3 - Criar um novo Kernel (--name=novo-kernel)"
   ]
  },
  {
   "cell_type": "code",
   "execution_count": 1,
   "id": "8ec1dbcf-e2ae-4994-8e06-cbedd1348c51",
   "metadata": {},
   "outputs": [
    {
     "name": "stdout",
     "output_type": "stream",
     "text": [
      "Installed kernelspec novo-kernel in /home/jovyan/.local/share/jupyter/kernels/novo-kernel\n"
     ]
    }
   ],
   "source": [
    "!pipenv run python -m ipykernel install --user --name=novo-kernel"
   ]
  },
  {
   "cell_type": "markdown",
   "id": "75d7ee6c-6c77-4df2-8b30-17e9dcbccf82",
   "metadata": {},
   "source": [
    "## 4 - Ativar novo Kernel"
   ]
  },
  {
   "cell_type": "markdown",
   "id": "3236f95b-4296-4549-aebd-04fd4f3e73dc",
   "metadata": {},
   "source": [
    "Reinicie o kernel do notebook e, após isso, selecione o Kernel \"novo-kernel\"  em Kernel em \"Kernel > Change Kernel\""
   ]
  },
  {
   "cell_type": "markdown",
   "id": "d2babd80-982b-4550-aa12-eb75e8702df2",
   "metadata": {},
   "source": [
    "![kernel](./images/kernel.png)"
   ]
  }
 ],
 "metadata": {
  "kernelspec": {
   "display_name": "teste-criacao",
   "language": "python",
   "name": "teste-criacao"
  },
  "language_info": {
   "codemirror_mode": {
    "name": "ipython",
    "version": 3
   },
   "file_extension": ".py",
   "mimetype": "text/x-python",
   "name": "python",
   "nbconvert_exporter": "python",
   "pygments_lexer": "ipython3",
   "version": "3.8.10"
  }
 },
 "nbformat": 4,
 "nbformat_minor": 5
}
