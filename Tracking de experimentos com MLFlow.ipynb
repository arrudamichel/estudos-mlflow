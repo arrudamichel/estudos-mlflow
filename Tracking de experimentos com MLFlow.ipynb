{
 "cells": [
  {
   "cell_type": "markdown",
   "id": "eb88ff02-e6ad-445c-8174-1e7bc87cd670",
   "metadata": {},
   "source": [
    "# Tracking de experimentos com MLFlow"
   ]
  },
  {
   "cell_type": "markdown",
   "id": "2eb1292e-98ff-4db5-9c74-9479a3b3a96c",
   "metadata": {
    "tags": []
   },
   "source": [
    "## 1 - Treinando e Trackeando o modelo - MLFlow"
   ]
  },
  {
   "cell_type": "markdown",
   "id": "eaa30c57-c7fb-491c-8832-1cca250cd7e3",
   "metadata": {},
   "source": [
    "Etapa destinada ao treinamento e tracking de resultados de um modelo de classificação (SVC) de exemplo da biblioteca SKLearn, usando a funcionalidade de Pipeline e um dataset sintético criado aleatóriamente pela função make_classification. O Pipeline simula as etapas de pré-processamento e treinamento, aplicando a função StandardScaler() e o modelo SVC(), respectivamente.\n",
    "\n",
    "No tracking dos experimentos, é usado o MLFlow. O MLflow é uma plataforma de código aberto para gerenciar o ciclo de vida de aprendizado de máquina de ponta a ponta. Ao realizar o tracking, o MLFlow registra parâmetros e resultados dos treinamentos, possibilitanto comparação visual posterior.\n"
   ]
  },
  {
   "cell_type": "code",
   "execution_count": 1,
   "id": "4b58358f-09c8-446d-a47b-31ca33695b12",
   "metadata": {},
   "outputs": [],
   "source": [
    "from sklearn.svm import SVC\n",
    "from sklearn.preprocessing import StandardScaler\n",
    "from sklearn.datasets import make_classification\n",
    "from sklearn.model_selection import train_test_split\n",
    "from sklearn.pipeline import Pipeline"
   ]
  },
  {
   "cell_type": "markdown",
   "id": "93f3171b-b0cc-4bc5-ad97-15b172fbd2d7",
   "metadata": {
    "tags": []
   },
   "source": [
    "### 1.1 - Dividindo base em treino e teste"
   ]
  },
  {
   "cell_type": "code",
   "execution_count": 2,
   "id": "e29cf2c5-0a63-4808-805d-5671394e316b",
   "metadata": {},
   "outputs": [],
   "source": [
    "X, y = make_classification(random_state=0)\n",
    "X_train, X_test, y_train, y_test = train_test_split(X, y,\n",
    "                                                    random_state=0)"
   ]
  },
  {
   "cell_type": "code",
   "execution_count": 3,
   "id": "ff12e0e5-4b8a-477a-8fd3-359a37c8d6cb",
   "metadata": {},
   "outputs": [
    {
     "data": {
      "text/plain": [
       "array([[-0.16137354,  0.0275097 , -0.51104046,  0.8566997 ,  0.11403208,\n",
       "         1.36741498, -0.1049797 ,  0.15364446, -1.61935998, -1.21286782,\n",
       "         0.99428212,  0.28376955, -1.15820319,  2.23201639, -1.58447356,\n",
       "         1.79444881,  0.84445431, -0.44358419, -0.28219588, -1.65534404],\n",
       "       [ 0.08261103,  0.0189221 ,  0.53916127, -1.53716448,  0.07317121,\n",
       "         1.01397215, -0.9571581 ,  0.58874241,  0.10058121, -1.00531187,\n",
       "        -1.94989387,  0.10140715,  0.66207429, -0.08203415,  0.38432341,\n",
       "        -0.82153452,  1.00971185,  1.10502647,  2.17116495, -1.73027606],\n",
       "       [-0.0148577 ,  0.67057045, -0.21416666,  0.25020227,  0.05548937,\n",
       "        -1.56699471,  0.03976673,  0.26568797,  1.84959125,  0.71998373,\n",
       "         0.27713603, -1.10290621,  0.01927938, -0.7075057 ,  0.72310049,\n",
       "         0.82140594,  0.02461213, -0.10486202, -0.10169727, -0.45130304],\n",
       "       [-1.33425847,  0.69377315, -0.81299299, -1.41363563, -1.16940705,\n",
       "         1.07774381, -0.13370156, -0.73067775, -0.71960439, -0.04217145,\n",
       "        -1.05473721, -0.28688719, -0.10730528, -0.15957344, -0.38487981,\n",
       "        -1.34671751,  0.09435159, -0.3599673 , -0.0616264 , -1.12682581],\n",
       "       [-0.98551074,  1.64813493, -1.11589699, -0.76605469, -0.29366863,\n",
       "        -0.2226751 ,  0.56729028, -1.61647419, -0.59865394,  0.85792392,\n",
       "        -0.77461035,  1.14110187,  0.85255194,  0.16422776, -0.29183736,\n",
       "        -1.47183501, -0.76149221,  0.18332468,  1.46657872, -0.35343175],\n",
       "       [-2.12117644,  1.96676397, -0.00965724, -0.10789457,  1.14012761,\n",
       "         1.41925505,  0.08658318, -1.39150527,  0.40088568, -0.3416781 ,\n",
       "        -0.81459336,  0.02429091, -0.88596648, -0.19623396,  0.86900634,\n",
       "        -1.8388466 ,  0.18418126,  1.34057624,  1.27981202,  0.93417975]])"
      ]
     },
     "execution_count": 3,
     "metadata": {},
     "output_type": "execute_result"
    }
   ],
   "source": [
    "X_test[0:6]"
   ]
  },
  {
   "cell_type": "markdown",
   "id": "d3a2c77e-98c6-4ef3-9d35-cf18bc0750f3",
   "metadata": {
    "tags": []
   },
   "source": [
    "### 1.2 - Configurando o MLFlow"
   ]
  },
  {
   "cell_type": "markdown",
   "id": "8c4fae33-7e0f-40bc-baab-4576ac88e667",
   "metadata": {},
   "source": [
    "Para utilização do MLFLow, é necessário a instalação e inicialização prévia de um serviço do MLFlow. \n",
    "\n",
    "Para execução local: \n",
    "1. Instale o MLFlow: `pip install mlflow`\n",
    "2. Inicie a UI: `mlflow ui`\n",
    "\n",
    "Para começar a trackear os modelos, o serviço e o nome do experimento devem ser configurados como abaixo.\n"
   ]
  },
  {
   "cell_type": "code",
   "execution_count": 4,
   "id": "9389344b-af91-4414-8beb-f994a41014eb",
   "metadata": {},
   "outputs": [
    {
     "data": {
      "text/plain": [
       "<Experiment: artifact_location='./mlruns/2', experiment_id='2', lifecycle_stage='active', name='pipeline-example', tags={}>"
      ]
     },
     "execution_count": 4,
     "metadata": {},
     "output_type": "execute_result"
    }
   ],
   "source": [
    "import mlflow\n",
    "\n",
    "mlflow.set_tracking_uri('http://localhost:5000')\n",
    "mlflow.set_experiment('pipeline-example')"
   ]
  },
  {
   "cell_type": "markdown",
   "id": "a73bcfd5-f28b-4e5c-bc25-9dc6fe8eae54",
   "metadata": {
    "tags": []
   },
   "source": [
    "### 1.3 - Treinando e armazenando artefatos do modelo"
   ]
  },
  {
   "cell_type": "markdown",
   "id": "65716656-240e-45d4-b120-ccdf1cbcfb5b",
   "metadata": {},
   "source": [
    "A realização do registro de métricas, parâmetros e modelos, pode ser realizada de duas formas:\n",
    "1. Automatic Logging: Para bibliotecas compatíveis, loga automaticamente os artefatos do modelo.\n",
    "2. Pode ser realizado o registro de forma personalizada, onde o cientista de dados inclui os artefatos que quiser."
   ]
  },
  {
   "cell_type": "markdown",
   "id": "e645154c-e909-4e03-8a44-9e0830368855",
   "metadata": {
    "tags": []
   },
   "source": [
    "#### 1.3.1 - Logando com autolog"
   ]
  },
  {
   "cell_type": "markdown",
   "id": "55f34d33-9e87-466c-845e-72cb0eaff89e",
   "metadata": {},
   "source": [
    "O autolog permite registrar métricas, parâmetros e modelos sem a necessidade de instruções de registro explícitas. \n",
    "\n",
    "Existem duas formas de usar o autolog:\n",
    "\n",
    "1. Chame `mlflow.autolog()` antes do código de treinamento. Isso habilitará o registro automático para qualquer biblioteca compatível que seja utilizada.\n",
    "2. Execute autolog() especificando a biblioteca utilizada para treino. Exemplo: `mlflow.sklearn.autolog(disable=False)`. \n",
    "\n",
    "As seguintes bibliotecas são compatíveis: \n",
    "- Scikit-learn\n",
    "- TensorFlow e Keras \n",
    "- Glúon\n",
    "- XGBoost\n",
    "- Name Light GBM\n",
    "- Statsmodels \n",
    "- Spark\n",
    "- Fastai\n",
    "- Pytorch\n",
    "\n",
    "Documentação: https://mlflow.org/docs/latest/tracking.html#automatic-logging"
   ]
  },
  {
   "cell_type": "code",
   "execution_count": 5,
   "id": "4b20774f-8b26-42f2-b040-289266f1ae0d",
   "metadata": {},
   "outputs": [
    {
     "name": "stderr",
     "output_type": "stream",
     "text": [
      "2022/05/08 02:20:49 WARNING mlflow.utils.autologging_utils: MLflow autologging encountered a warning: \"/Users/michel.arruda/.local/share/virtualenvs/bento-v1-XwOwfk9D/lib/python3.8/site-packages/sklearn/utils/deprecation.py:87: FutureWarning: Function plot_confusion_matrix is deprecated; Function `plot_confusion_matrix` is deprecated in 1.0 and will be removed in 1.2. Use one of the class methods: ConfusionMatrixDisplay.from_predictions or ConfusionMatrixDisplay.from_estimator.\"\n",
      "2022/05/08 02:20:49 WARNING mlflow.utils.autologging_utils: MLflow autologging encountered a warning: \"/Users/michel.arruda/.local/share/virtualenvs/bento-v1-XwOwfk9D/lib/python3.8/site-packages/sklearn/utils/deprecation.py:87: FutureWarning: Function plot_roc_curve is deprecated; Function :func:`plot_roc_curve` is deprecated in 1.0 and will be removed in 1.2. Use one of the class methods: :meth:`sklearn.metric.RocCurveDisplay.from_predictions` or :meth:`sklearn.metric.RocCurveDisplay.from_estimator`.\"\n",
      "2022/05/08 02:20:50 WARNING mlflow.utils.autologging_utils: MLflow autologging encountered a warning: \"/Users/michel.arruda/.local/share/virtualenvs/bento-v1-XwOwfk9D/lib/python3.8/site-packages/sklearn/utils/deprecation.py:87: FutureWarning: Function plot_precision_recall_curve is deprecated; Function `plot_precision_recall_curve` is deprecated in 1.0 and will be removed in 1.2. Use one of the class methods: PrecisionRecallDisplay.from_predictions or PrecisionRecallDisplay.from_estimator.\"\n"
     ]
    },
    {
     "name": "stdout",
     "output_type": "stream",
     "text": [
      "Resultado do teste no modelo: [1 0 1 0 0 1 1 0 0 1 1 0 0 0 0 1 0 0 1 1 1 0 1 0 0]\n",
      "Id da execução no MLFlow: db1048fa4daf496e87c102d752afe5be\n"
     ]
    }
   ],
   "source": [
    "from sklearn import svm\n",
    "from sklearn import datasets\n",
    "from joblib import dump\n",
    "\n",
    "mlflow.sklearn.autolog(disable=False)\n",
    "\n",
    "with mlflow.start_run() as run:\n",
    "    \n",
    "    pipe = Pipeline([('scaler', StandardScaler()), ('svc', SVC())])\n",
    "    pipe.fit(X_train, y_train)\n",
    "    print(\"Resultado do teste no modelo:\", pipe.predict(X_test))\n",
    "            \n",
    "    score = pipe.score(X_test, y_test)\n",
    "    \n",
    "    print(\"Id da execução no MLFlow:\", run.info.run_id)"
   ]
  },
  {
   "cell_type": "markdown",
   "id": "aebc300c-9789-47cd-8213-3cbb2b24ccac",
   "metadata": {
    "tags": []
   },
   "source": [
    "#### 1.3.2 - Logando de forma personalizada "
   ]
  },
  {
   "cell_type": "markdown",
   "id": "4b4fba45-e301-409c-b024-2f78f9ee1be7",
   "metadata": {},
   "source": [
    "Para registro dos artefatos de forma personalizada podem ser utilizados diversos métodos. Abaixo alguns exemplos de uso:\n",
    "\n",
    "- .log_model(model, 'remote_model_path') - Registra o modelo em um path, armazenando o .pickle e a lista de dependências\n",
    "- .log_param(\"param_key\", param_value) - Registra os parâmetros de entrada do modelo\n",
    "- .log_metric(\"metric_key\", metric_value) - Registra o valor de uma métrica aplicada a um modelo préviamente treinado.\n",
    "- .log_artifact() registra um arquivo ou diretório local como um artefato, opcionalmente pegando um attribute_path para colocá-lo no URI do artefato da execução. Os artefatos de execução podem ser organizados em diretórios, para que você possa colocar o artefato em um diretório dessa maneira.\n",
    "- .set_tag(\"key\", \"value\") - Define uma tag na execução atual.\n",
    "\n",
    "\n",
    "Exemplos de uso:\n",
    "- mlflow.sklearn.log_model(model, 'arquivos_modelo')\n",
    "- mlflow.log_param('svc__degree', 3)\n",
    "- mlflow.log_metric('Score', 0.88)\n",
    "- mlflow.log_artifact(\"results/matriz_confusao.png\")\n",
    "- mlflow.set_tag(\"release.version\", \"2.2.0\")\n"
   ]
  },
  {
   "cell_type": "code",
   "execution_count": 6,
   "id": "51f2d98d-47f4-4ba7-8ee1-caef33c7f146",
   "metadata": {},
   "outputs": [
    {
     "name": "stdout",
     "output_type": "stream",
     "text": [
      "Resultado do teste no modelo: [1 0 1 0 0 1 1 0 0 1 1 0 0 0 0 1 0 0 1 1 1 0 1 0 0]\n"
     ]
    },
    {
     "name": "stderr",
     "output_type": "stream",
     "text": [
      "/Users/michel.arruda/.local/share/virtualenvs/bento-v1-XwOwfk9D/lib/python3.8/site-packages/sklearn/utils/deprecation.py:87: FutureWarning: Function plot_confusion_matrix is deprecated; Function `plot_confusion_matrix` is deprecated in 1.0 and will be removed in 1.2. Use one of the class methods: ConfusionMatrixDisplay.from_predictions or ConfusionMatrixDisplay.from_estimator.\n",
      "  warnings.warn(msg, category=FutureWarning)\n"
     ]
    },
    {
     "name": "stdout",
     "output_type": "stream",
     "text": [
      "Id da execução no MLFlow: 04592031c85849f0bb8eb3b9bab5189a\n"
     ]
    },
    {
     "data": {
      "image/png": "[encoded data removed]",
      "text/plain": [
       "<Figure size 640x480 with 2 Axes>"
      ]
     },
     "metadata": {},
     "output_type": "display_data"
    }
   ],
   "source": [
    "import matplotlib.pyplot as plt\n",
    "from sklearn.metrics import plot_confusion_matrix\n",
    "\n",
    "mlflow.sklearn.autolog(disable=True)\n",
    "\n",
    "with mlflow.start_run() as run:\n",
    "\n",
    "    # Treinando modelo\n",
    "    pipe = Pipeline([('scaler', StandardScaler()), ('svc', SVC())])\n",
    "    pipe.fit(X_train, y_train)\n",
    "    print(\"Resultado do teste no modelo:\", pipe.predict(X_test))\n",
    "    \n",
    "    # Tracking - Modelo\n",
    "    mlflow.sklearn.log_model(pipe, 'model')\n",
    "    \n",
    "    # Tracking - Score\n",
    "    score = pipe.score(X_test, y_test)\n",
    "    mlflow.log_metric('score', score)\n",
    "    \n",
    "    # Tracking - Matrix de Confusao\n",
    "    plot_confusion_matrix(pipe, X_test, y_test)  \n",
    "    plt.savefig(\"results/matriz_confusao.png\")\n",
    "    mlflow.log_artifact(\"results/matriz_confusao.png\")\n",
    "    \n",
    "    # Execucao do MLFlow\n",
    "    print(\"Id da execução no MLFlow:\", run.info.run_id)"
   ]
  },
  {
   "cell_type": "markdown",
   "id": "3abaea06-e144-4577-987e-9e2f735dbd1c",
   "metadata": {
    "tags": []
   },
   "source": [
    "### 1.4 - Informações da execução no MLFlow"
   ]
  },
  {
   "cell_type": "code",
   "execution_count": 7,
   "id": "3df6a483-0263-4579-8b4a-09a1cd1e95eb",
   "metadata": {},
   "outputs": [
    {
     "data": {
      "text/plain": [
       "<Run: data=<RunData: metrics={'score': 0.88}, params={}, tags={'mlflow.log-model.history': '[{\"run_id\": \"04592031c85849f0bb8eb3b9bab5189a\", '\n",
       "                             '\"artifact_path\": \"model\", \"utc_time_created\": '\n",
       "                             '\"2022-05-08 05:20:53.681325\", \"flavors\": '\n",
       "                             '{\"python_function\": {\"model_path\": \"model.pkl\", '\n",
       "                             '\"loader_module\": \"mlflow.sklearn\", '\n",
       "                             '\"python_version\": \"3.8.12\", \"env\": '\n",
       "                             '\"conda.yaml\"}, \"sklearn\": {\"pickled_model\": '\n",
       "                             '\"model.pkl\", \"sklearn_version\": \"1.0.2\", '\n",
       "                             '\"serialization_format\": \"cloudpickle\"}}, '\n",
       "                             '\"model_uuid\": '\n",
       "                             '\"6fd14ac922fc41e4baedd2e5e858cb77\"}]',\n",
       " 'mlflow.source.name': '/Users/michel.arruda/.local/share/virtualenvs/bento-v1-XwOwfk9D/lib/python3.8/site-packages/ipykernel_launcher.py',\n",
       " 'mlflow.source.type': 'LOCAL',\n",
       " 'mlflow.user': 'michel.arruda'}>, info=<RunInfo: artifact_uri='./mlruns/2/04592031c85849f0bb8eb3b9bab5189a/artifacts', end_time=1651987256507, experiment_id='2', lifecycle_stage='active', run_id='04592031c85849f0bb8eb3b9bab5189a', run_uuid='04592031c85849f0bb8eb3b9bab5189a', start_time=1651987253632, status='FINISHED', user_id='michel.arruda'>>"
      ]
     },
     "execution_count": 7,
     "metadata": {},
     "output_type": "execute_result"
    }
   ],
   "source": [
    "run_info = mlflow.get_run(run.info.run_id)\n",
    "run_info"
   ]
  },
  {
   "cell_type": "code",
   "execution_count": 8,
   "id": "4704388c-4c75-4657-983f-5ee4df85e31b",
   "metadata": {},
   "outputs": [
    {
     "name": "stdout",
     "output_type": "stream",
     "text": [
      "URL dos atefatos:  ./mlruns/2/04592031c85849f0bb8eb3b9bab5189a/artifacts\n",
      "Caminho dos artefatos:  model\n",
      "Caminho do model:  model.pkl\n",
      "Identificador da execução:  04592031c85849f0bb8eb3b9bab5189a\n",
      "Caminho para o .pkl:  ./mlruns/2/04592031c85849f0bb8eb3b9bab5189a/artifacts/model/model.pkl\n"
     ]
    }
   ],
   "source": [
    "import ast\n",
    "history = ast.literal_eval(run_info.data.tags[\"mlflow.log-model.history\"])\n",
    "artifact_path = history[0][\"artifact_path\"]\n",
    "model_path = history[0][\"flavors\"][\"python_function\"][\"model_path\"]\n",
    "pkl_path = run_info.info.artifact_uri + \"/\"+ artifact_path + \"/\" + model_path\n",
    "\n",
    "print(\"URL dos atefatos: \", run_info.info.artifact_uri)\n",
    "print(\"Caminho dos artefatos: \", artifact_path)\n",
    "print(\"Caminho do model: \", model_path)\n",
    "print(\"Identificador da execução: \", run_info.info.run_id)\n",
    "print(\"Caminho para o .pkl: \", pkl_path)"
   ]
  }
 ],
 "metadata": {
  "kernelspec": {
   "display_name": "bento-v1",
   "language": "python",
   "name": "bento-v1"
  },
  "language_info": {
   "codemirror_mode": {
    "name": "ipython",
    "version": 3
   },
   "file_extension": ".py",
   "mimetype": "text/x-python",
   "name": "python",
   "nbconvert_exporter": "python",
   "pygments_lexer": "ipython3",
   "version": "3.8.12"
  }
 },
 "nbformat": 4,
 "nbformat_minor": 5
}
